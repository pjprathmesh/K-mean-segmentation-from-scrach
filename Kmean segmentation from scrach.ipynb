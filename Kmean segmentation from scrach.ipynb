{
 "cells": [
  {
   "cell_type": "markdown",
   "metadata": {},
   "source": [
    "# Define centroid"
   ]
  },
  {
   "cell_type": "code",
   "execution_count": 3,
   "metadata": {},
   "outputs": [
    {
     "name": "stdout",
     "output_type": "stream",
     "text": [
      "98 148 146\n",
      "92 148 147\n"
     ]
    }
   ],
   "source": [
    "import numpy as np\n",
    "np.random.seed(2)\n",
    "\n",
    "k=2\n",
    "centroid={ i+1 : [np.random.randint(90,100),np.random.randint(140,150),np.random.randint(140,150)]  for i in range(k)}\n",
    "for i in range(1,k+1):\n",
    "    print(centroid[i][0],centroid[i][1],centroid[i][2])"
   ]
  },
  {
   "cell_type": "markdown",
   "metadata": {},
   "source": [
    "# K-mean segmentation"
   ]
  },
  {
   "cell_type": "code",
   "execution_count": 4,
   "metadata": {},
   "outputs": [
    {
     "name": "stdout",
     "output_type": "stream",
     "text": [
      "{1: [168.0, 169.0, 171.0], 2: [37.0, 44.0, 41.0]}\n",
      "{1: [175.0, 178.0, 187.0], 2: [39.0, 45.0, 41.0]}\n",
      "{1: [178.0, 180.0, 190.0], 2: [39.0, 45.0, 42.0]}\n",
      "{1: [179.0, 181.0, 190.0], 2: [39.0, 46.0, 42.0]}\n",
      "{1: [179.0, 181.0, 191.0], 2: [39.0, 46.0, 42.0]}\n",
      "693594\n"
     ]
    }
   ],
   "source": [
    "import math\n",
    "import cv2\n",
    "# img = cv2.imread('C:\\\\Users\\\\PRATHMESH\\\\Desktop\\\\765-800.jpg',1)\n",
    "img = cv2.imread('C:\\\\Users\\\\PRATHMESH\\\\Desktop\\\\cat.JPG',1)\n",
    "\n",
    "\n",
    "while 1:         #if updated centroid is same as  previous centroid ,break the loop.\n",
    "    res={}\n",
    "    r,g,b=cv2.split(img)\n",
    "    r, g, b =r.ravel(),g.ravel(),b.ravel()\n",
    "    for i in range(len(r)):\n",
    "        minn=999999\n",
    "        index=0\n",
    "        for j in centroid.keys():\n",
    "                a=np.sqrt((centroid[j][0]-r[i])**2+(centroid[j][1]-g[i])**2+(centroid[j][2]-b[i])**2)\n",
    "                if a<minn:\n",
    "                    minn=a\n",
    "                    index=j\n",
    "        res[(r[i],g[i],b[i],i)]=index\n",
    "    \n",
    "    res2={}\n",
    "    for j in centroid.keys():\n",
    "        r,g,b,aa=0,0,0,0\n",
    "        for i,k in res.items():\n",
    "            if k==j:\n",
    "                r+=i[0]\n",
    "                g+=i[1]\n",
    "                b+=i[2]\n",
    "                aa+=1\n",
    "        res2[j]=[round(r/aa,0),round(g/aa,0),round(b/aa,0)]\n",
    "    if res2[1]==centroid[1]  :\n",
    "        break\n",
    "    else:\n",
    "        centroid=res2\n",
    "    print(centroid)\n",
    "    \n",
    "    \n",
    "    \n",
    "o=[]\n",
    "print(len(res.values()))\n",
    "for i in res.values():\n",
    "    o.append(centroid[i])\n",
    "\n",
    "o=np.array(o)\n",
    "o=np.uint8(o).reshape(img.shape)\n",
    "# blur = cv2.GaussianBlur(o,(5,5),0)\n",
    "# gray = cv2.cvtColor(blur, cv2.COLOR_BGR2GRAY)\n",
    "# ret3,th3 = cv2.threshold(gray,0,255,cv2.THRESH_BINARY+cv2.THRESH_OTSU)\n",
    "# mask_inv = cv2.bitwise_not(th3)\n",
    "# img1_bg = cv2.bitwise_and(img,img,mask = mask_inv)\n",
    "# cv2.imshow(\"s2\",img1_bg)\n",
    "cv2.imshow(\"s\",o)\n",
    "cv2.imshow(\"s1\",img)\n",
    "k = cv2.waitKey(0)\n",
    "if k == 27: \n",
    "    cv2.destroyAllWindows()"
   ]
  },
  {
   "cell_type": "code",
   "execution_count": 5,
   "metadata": {},
   "outputs": [
    {
     "data": {
      "text/plain": [
       "True"
      ]
     },
     "execution_count": 5,
     "metadata": {},
     "output_type": "execute_result"
    }
   ],
   "source": [
    "cv2.imwrite(\"C:\\\\Users\\\\PRATHMESH\\\\Desktop\\\\cat_kmean.jpg\",o)"
   ]
  }
 ],
 "metadata": {
  "kernelspec": {
   "display_name": "Python 3",
   "language": "python",
   "name": "python3"
  },
  "language_info": {
   "codemirror_mode": {
    "name": "ipython",
    "version": 3
   },
   "file_extension": ".py",
   "mimetype": "text/x-python",
   "name": "python",
   "nbconvert_exporter": "python",
   "pygments_lexer": "ipython3",
   "version": "3.7.4"
  }
 },
 "nbformat": 4,
 "nbformat_minor": 2
}
